{
 "cells": [
  {
   "cell_type": "code",
   "execution_count": 4,
   "metadata": {},
   "outputs": [],
   "source": [
    "import pandas as pd\n",
    "import matplotlib.pyplot as plt\n",
    "%matplotlib inline\n",
    "import numpy as np\n",
    "\n",
    "# Loading entire dataset\n",
    "dataset = pd.read_csv('dataset.csv')\n"
   ]
  },
  {
   "cell_type": "code",
   "execution_count": 5,
   "metadata": {},
   "outputs": [
    {
     "data": {
      "text/html": [
       "<div>\n",
       "<style scoped>\n",
       "    .dataframe tbody tr th:only-of-type {\n",
       "        vertical-align: middle;\n",
       "    }\n",
       "\n",
       "    .dataframe tbody tr th {\n",
       "        vertical-align: top;\n",
       "    }\n",
       "\n",
       "    .dataframe thead th {\n",
       "        text-align: right;\n",
       "    }\n",
       "</style>\n",
       "<table border=\"1\" class=\"dataframe\">\n",
       "  <thead>\n",
       "    <tr style=\"text-align: right;\">\n",
       "      <th></th>\n",
       "      <th>Affluence</th>\n",
       "      <th>Capacite</th>\n",
       "      <th>Journee</th>\n",
       "      <th>Jours</th>\n",
       "      <th>Date</th>\n",
       "      <th>Heure</th>\n",
       "      <th>Domicile</th>\n",
       "      <th>Resultat</th>\n",
       "      <th>exterieur</th>\n",
       "      <th>Derby</th>\n",
       "      <th>Victoire_dom</th>\n",
       "      <th>Dom_plac_joun</th>\n",
       "      <th>ext_plac_joun</th>\n",
       "      <th>Dom_plac_final</th>\n",
       "      <th>ext_plac_final</th>\n",
       "    </tr>\n",
       "  </thead>\n",
       "  <tbody>\n",
       "    <tr>\n",
       "      <th>0</th>\n",
       "      <td>24551</td>\n",
       "      <td>50000</td>\n",
       "      <td>1</td>\n",
       "      <td>sam</td>\n",
       "      <td>21/07/1989</td>\n",
       "      <td>20:30</td>\n",
       "      <td>Olympique de lyonnais</td>\n",
       "      <td>1-4</td>\n",
       "      <td>Olympique de Marseille</td>\n",
       "      <td>1</td>\n",
       "      <td>42.1</td>\n",
       "      <td>18</td>\n",
       "      <td>1</td>\n",
       "      <td>8</td>\n",
       "      <td>1</td>\n",
       "    </tr>\n",
       "    <tr>\n",
       "      <th>1</th>\n",
       "      <td>15572</td>\n",
       "      <td>50000</td>\n",
       "      <td>2</td>\n",
       "      <td>ven</td>\n",
       "      <td>29/07/1989</td>\n",
       "      <td>20:30</td>\n",
       "      <td>Olympique de lyonnais</td>\n",
       "      <td>3-0</td>\n",
       "      <td>Toulouse FC</td>\n",
       "      <td>0</td>\n",
       "      <td>42.1</td>\n",
       "      <td>7</td>\n",
       "      <td>8</td>\n",
       "      <td>8</td>\n",
       "      <td>9</td>\n",
       "    </tr>\n",
       "    <tr>\n",
       "      <th>2</th>\n",
       "      <td>15753</td>\n",
       "      <td>50000</td>\n",
       "      <td>4</td>\n",
       "      <td>ven</td>\n",
       "      <td>05/08/1989</td>\n",
       "      <td>20:30</td>\n",
       "      <td>Olympique de lyonnais</td>\n",
       "      <td>2-0</td>\n",
       "      <td>OGC Nice</td>\n",
       "      <td>0</td>\n",
       "      <td>42.1</td>\n",
       "      <td>8</td>\n",
       "      <td>13</td>\n",
       "      <td>8</td>\n",
       "      <td>18</td>\n",
       "    </tr>\n",
       "    <tr>\n",
       "      <th>3</th>\n",
       "      <td>23791</td>\n",
       "      <td>50000</td>\n",
       "      <td>6</td>\n",
       "      <td>ven</td>\n",
       "      <td>19/08/1989</td>\n",
       "      <td>20:30</td>\n",
       "      <td>Olympique de lyonnais</td>\n",
       "      <td>0-4</td>\n",
       "      <td>FC Sochaux-Montbeliard</td>\n",
       "      <td>0</td>\n",
       "      <td>42.1</td>\n",
       "      <td>9</td>\n",
       "      <td>4</td>\n",
       "      <td>8</td>\n",
       "      <td>4</td>\n",
       "    </tr>\n",
       "    <tr>\n",
       "      <th>4</th>\n",
       "      <td>17423</td>\n",
       "      <td>50000</td>\n",
       "      <td>8</td>\n",
       "      <td>mer</td>\n",
       "      <td>30/08/1989</td>\n",
       "      <td>20:30</td>\n",
       "      <td>Olympique de lyonnais</td>\n",
       "      <td>1-1</td>\n",
       "      <td>Racing Paris 1</td>\n",
       "      <td>0</td>\n",
       "      <td>42.1</td>\n",
       "      <td>13</td>\n",
       "      <td>14</td>\n",
       "      <td>8</td>\n",
       "      <td>19</td>\n",
       "    </tr>\n",
       "  </tbody>\n",
       "</table>\n",
       "</div>"
      ],
      "text/plain": [
       "   Affluence  Capacite  Journee Jours        Date  Heure  \\\n",
       "0      24551     50000        1   sam  21/07/1989  20:30   \n",
       "1      15572     50000        2   ven  29/07/1989  20:30   \n",
       "2      15753     50000        4   ven  05/08/1989  20:30   \n",
       "3      23791     50000        6   ven  19/08/1989  20:30   \n",
       "4      17423     50000        8   mer  30/08/1989  20:30   \n",
       "\n",
       "                Domicile Resultat               exterieur  Derby  \\\n",
       "0  Olympique de lyonnais      1-4  Olympique de Marseille      1   \n",
       "1  Olympique de lyonnais      3-0             Toulouse FC      0   \n",
       "2  Olympique de lyonnais      2-0                OGC Nice      0   \n",
       "3  Olympique de lyonnais      0-4  FC Sochaux-Montbeliard      0   \n",
       "4  Olympique de lyonnais      1-1          Racing Paris 1      0   \n",
       "\n",
       "   Victoire_dom  Dom_plac_joun  ext_plac_joun  Dom_plac_final  ext_plac_final  \n",
       "0          42.1             18              1               8               1  \n",
       "1          42.1              7              8               8               9  \n",
       "2          42.1              8             13               8              18  \n",
       "3          42.1              9              4               8               4  \n",
       "4          42.1             13             14               8              19  "
      ]
     },
     "execution_count": 5,
     "metadata": {},
     "output_type": "execute_result"
    }
   ],
   "source": [
    "dataset.head()"
   ]
  },
  {
   "cell_type": "code",
   "execution_count": 6,
   "metadata": {},
   "outputs": [],
   "source": [
    "from sklearn.preprocessing import LabelEncoder, StandardScaler\n",
    "from sklearn.ensemble import RandomForestRegressor, GradientBoostingRegressor\n",
    "from sklearn.svm import SVR, LinearSVR\n",
    "from sklearn.model_selection import train_test_split, cross_val_score, GridSearchCV\n",
    "from sklearn.metrics import r2_score\n",
    "from statsmodels.tools.tools import add_constant\n",
    "from statsmodels.regression.linear_model import OLS\n",
    "import time\n",
    "\n",
    "le = LabelEncoder()\n",
    "\n",
    "dataset['Jours_label'] = le.fit_transform(dataset.Jours)\n",
    "dataset['exterieur_label'] = le.fit_transform(dataset.exterieur)\n",
    "dataset['Domicile_label'] = le.fit_transform(dataset.Domicile)\n",
    "dataset['Capacite_label'] = le.fit_transform(dataset.Capacite)\n",
    "dataset['Heure_label'] = le.fit_transform(dataset.Heure)"
   ]
  },
  {
   "cell_type": "code",
   "execution_count": 7,
   "metadata": {},
   "outputs": [
    {
     "data": {
      "text/html": [
       "<div>\n",
       "<style scoped>\n",
       "    .dataframe tbody tr th:only-of-type {\n",
       "        vertical-align: middle;\n",
       "    }\n",
       "\n",
       "    .dataframe tbody tr th {\n",
       "        vertical-align: top;\n",
       "    }\n",
       "\n",
       "    .dataframe thead th {\n",
       "        text-align: right;\n",
       "    }\n",
       "</style>\n",
       "<table border=\"1\" class=\"dataframe\">\n",
       "  <thead>\n",
       "    <tr style=\"text-align: right;\">\n",
       "      <th></th>\n",
       "      <th>Affluence</th>\n",
       "      <th>Capacite</th>\n",
       "      <th>Journee</th>\n",
       "      <th>Jours</th>\n",
       "      <th>Date</th>\n",
       "      <th>Heure</th>\n",
       "      <th>Domicile</th>\n",
       "      <th>Resultat</th>\n",
       "      <th>exterieur</th>\n",
       "      <th>Derby</th>\n",
       "      <th>Victoire_dom</th>\n",
       "      <th>Dom_plac_joun</th>\n",
       "      <th>ext_plac_joun</th>\n",
       "      <th>Dom_plac_final</th>\n",
       "      <th>ext_plac_final</th>\n",
       "      <th>Jours_label</th>\n",
       "      <th>exterieur_label</th>\n",
       "      <th>Domicile_label</th>\n",
       "      <th>Capacite_label</th>\n",
       "      <th>Heure_label</th>\n",
       "    </tr>\n",
       "  </thead>\n",
       "  <tbody>\n",
       "    <tr>\n",
       "      <th>0</th>\n",
       "      <td>24551</td>\n",
       "      <td>50000</td>\n",
       "      <td>1</td>\n",
       "      <td>sam</td>\n",
       "      <td>21/07/1989</td>\n",
       "      <td>20:30</td>\n",
       "      <td>Olympique de lyonnais</td>\n",
       "      <td>1-4</td>\n",
       "      <td>Olympique de Marseille</td>\n",
       "      <td>1</td>\n",
       "      <td>42.1</td>\n",
       "      <td>18</td>\n",
       "      <td>1</td>\n",
       "      <td>8</td>\n",
       "      <td>1</td>\n",
       "      <td>4</td>\n",
       "      <td>36</td>\n",
       "      <td>0</td>\n",
       "      <td>6</td>\n",
       "      <td>15</td>\n",
       "    </tr>\n",
       "    <tr>\n",
       "      <th>1</th>\n",
       "      <td>15572</td>\n",
       "      <td>50000</td>\n",
       "      <td>2</td>\n",
       "      <td>ven</td>\n",
       "      <td>29/07/1989</td>\n",
       "      <td>20:30</td>\n",
       "      <td>Olympique de lyonnais</td>\n",
       "      <td>3-0</td>\n",
       "      <td>Toulouse FC</td>\n",
       "      <td>0</td>\n",
       "      <td>42.1</td>\n",
       "      <td>7</td>\n",
       "      <td>8</td>\n",
       "      <td>8</td>\n",
       "      <td>9</td>\n",
       "      <td>5</td>\n",
       "      <td>49</td>\n",
       "      <td>0</td>\n",
       "      <td>6</td>\n",
       "      <td>15</td>\n",
       "    </tr>\n",
       "    <tr>\n",
       "      <th>2</th>\n",
       "      <td>15753</td>\n",
       "      <td>50000</td>\n",
       "      <td>4</td>\n",
       "      <td>ven</td>\n",
       "      <td>05/08/1989</td>\n",
       "      <td>20:30</td>\n",
       "      <td>Olympique de lyonnais</td>\n",
       "      <td>2-0</td>\n",
       "      <td>OGC Nice</td>\n",
       "      <td>0</td>\n",
       "      <td>42.1</td>\n",
       "      <td>8</td>\n",
       "      <td>13</td>\n",
       "      <td>8</td>\n",
       "      <td>18</td>\n",
       "      <td>5</td>\n",
       "      <td>35</td>\n",
       "      <td>0</td>\n",
       "      <td>6</td>\n",
       "      <td>15</td>\n",
       "    </tr>\n",
       "    <tr>\n",
       "      <th>3</th>\n",
       "      <td>23791</td>\n",
       "      <td>50000</td>\n",
       "      <td>6</td>\n",
       "      <td>ven</td>\n",
       "      <td>19/08/1989</td>\n",
       "      <td>20:30</td>\n",
       "      <td>Olympique de lyonnais</td>\n",
       "      <td>0-4</td>\n",
       "      <td>FC Sochaux-Montbeliard</td>\n",
       "      <td>0</td>\n",
       "      <td>42.1</td>\n",
       "      <td>9</td>\n",
       "      <td>4</td>\n",
       "      <td>8</td>\n",
       "      <td>4</td>\n",
       "      <td>5</td>\n",
       "      <td>25</td>\n",
       "      <td>0</td>\n",
       "      <td>6</td>\n",
       "      <td>15</td>\n",
       "    </tr>\n",
       "    <tr>\n",
       "      <th>4</th>\n",
       "      <td>17423</td>\n",
       "      <td>50000</td>\n",
       "      <td>8</td>\n",
       "      <td>mer</td>\n",
       "      <td>30/08/1989</td>\n",
       "      <td>20:30</td>\n",
       "      <td>Olympique de lyonnais</td>\n",
       "      <td>1-1</td>\n",
       "      <td>Racing Paris 1</td>\n",
       "      <td>0</td>\n",
       "      <td>42.1</td>\n",
       "      <td>13</td>\n",
       "      <td>14</td>\n",
       "      <td>8</td>\n",
       "      <td>19</td>\n",
       "      <td>3</td>\n",
       "      <td>41</td>\n",
       "      <td>0</td>\n",
       "      <td>6</td>\n",
       "      <td>15</td>\n",
       "    </tr>\n",
       "  </tbody>\n",
       "</table>\n",
       "</div>"
      ],
      "text/plain": [
       "   Affluence  Capacite  Journee Jours        Date  Heure  \\\n",
       "0      24551     50000        1   sam  21/07/1989  20:30   \n",
       "1      15572     50000        2   ven  29/07/1989  20:30   \n",
       "2      15753     50000        4   ven  05/08/1989  20:30   \n",
       "3      23791     50000        6   ven  19/08/1989  20:30   \n",
       "4      17423     50000        8   mer  30/08/1989  20:30   \n",
       "\n",
       "                Domicile Resultat               exterieur  Derby  \\\n",
       "0  Olympique de lyonnais      1-4  Olympique de Marseille      1   \n",
       "1  Olympique de lyonnais      3-0             Toulouse FC      0   \n",
       "2  Olympique de lyonnais      2-0                OGC Nice      0   \n",
       "3  Olympique de lyonnais      0-4  FC Sochaux-Montbeliard      0   \n",
       "4  Olympique de lyonnais      1-1          Racing Paris 1      0   \n",
       "\n",
       "   Victoire_dom  Dom_plac_joun  ext_plac_joun  Dom_plac_final  ext_plac_final  \\\n",
       "0          42.1             18              1               8               1   \n",
       "1          42.1              7              8               8               9   \n",
       "2          42.1              8             13               8              18   \n",
       "3          42.1              9              4               8               4   \n",
       "4          42.1             13             14               8              19   \n",
       "\n",
       "   Jours_label  exterieur_label  Domicile_label  Capacite_label  Heure_label  \n",
       "0            4               36               0               6           15  \n",
       "1            5               49               0               6           15  \n",
       "2            5               35               0               6           15  \n",
       "3            5               25               0               6           15  \n",
       "4            3               41               0               6           15  "
      ]
     },
     "execution_count": 7,
     "metadata": {},
     "output_type": "execute_result"
    }
   ],
   "source": [
    "dataset.head()"
   ]
  },
  {
   "cell_type": "code",
   "execution_count": 8,
   "metadata": {},
   "outputs": [],
   "source": [
    "X = dataset.drop(['Jours', 'exterieur', 'Capacite', 'Affluence','Date','Heure','Domicile','Resultat'], axis = 1)\n",
    "y = dataset.Affluence"
   ]
  },
  {
   "cell_type": "code",
   "execution_count": 9,
   "metadata": {},
   "outputs": [
    {
     "data": {
      "text/html": [
       "<div>\n",
       "<style scoped>\n",
       "    .dataframe tbody tr th:only-of-type {\n",
       "        vertical-align: middle;\n",
       "    }\n",
       "\n",
       "    .dataframe tbody tr th {\n",
       "        vertical-align: top;\n",
       "    }\n",
       "\n",
       "    .dataframe thead th {\n",
       "        text-align: right;\n",
       "    }\n",
       "</style>\n",
       "<table border=\"1\" class=\"dataframe\">\n",
       "  <thead>\n",
       "    <tr style=\"text-align: right;\">\n",
       "      <th></th>\n",
       "      <th>Journee</th>\n",
       "      <th>Derby</th>\n",
       "      <th>Victoire_dom</th>\n",
       "      <th>Dom_plac_joun</th>\n",
       "      <th>ext_plac_joun</th>\n",
       "      <th>Dom_plac_final</th>\n",
       "      <th>ext_plac_final</th>\n",
       "      <th>Jours_label</th>\n",
       "      <th>exterieur_label</th>\n",
       "      <th>Domicile_label</th>\n",
       "      <th>Capacite_label</th>\n",
       "      <th>Heure_label</th>\n",
       "    </tr>\n",
       "  </thead>\n",
       "  <tbody>\n",
       "    <tr>\n",
       "      <th>0</th>\n",
       "      <td>1</td>\n",
       "      <td>1</td>\n",
       "      <td>42.1</td>\n",
       "      <td>18</td>\n",
       "      <td>1</td>\n",
       "      <td>8</td>\n",
       "      <td>1</td>\n",
       "      <td>4</td>\n",
       "      <td>36</td>\n",
       "      <td>0</td>\n",
       "      <td>6</td>\n",
       "      <td>15</td>\n",
       "    </tr>\n",
       "    <tr>\n",
       "      <th>1</th>\n",
       "      <td>2</td>\n",
       "      <td>0</td>\n",
       "      <td>42.1</td>\n",
       "      <td>7</td>\n",
       "      <td>8</td>\n",
       "      <td>8</td>\n",
       "      <td>9</td>\n",
       "      <td>5</td>\n",
       "      <td>49</td>\n",
       "      <td>0</td>\n",
       "      <td>6</td>\n",
       "      <td>15</td>\n",
       "    </tr>\n",
       "    <tr>\n",
       "      <th>2</th>\n",
       "      <td>4</td>\n",
       "      <td>0</td>\n",
       "      <td>42.1</td>\n",
       "      <td>8</td>\n",
       "      <td>13</td>\n",
       "      <td>8</td>\n",
       "      <td>18</td>\n",
       "      <td>5</td>\n",
       "      <td>35</td>\n",
       "      <td>0</td>\n",
       "      <td>6</td>\n",
       "      <td>15</td>\n",
       "    </tr>\n",
       "    <tr>\n",
       "      <th>3</th>\n",
       "      <td>6</td>\n",
       "      <td>0</td>\n",
       "      <td>42.1</td>\n",
       "      <td>9</td>\n",
       "      <td>4</td>\n",
       "      <td>8</td>\n",
       "      <td>4</td>\n",
       "      <td>5</td>\n",
       "      <td>25</td>\n",
       "      <td>0</td>\n",
       "      <td>6</td>\n",
       "      <td>15</td>\n",
       "    </tr>\n",
       "    <tr>\n",
       "      <th>4</th>\n",
       "      <td>8</td>\n",
       "      <td>0</td>\n",
       "      <td>42.1</td>\n",
       "      <td>13</td>\n",
       "      <td>14</td>\n",
       "      <td>8</td>\n",
       "      <td>19</td>\n",
       "      <td>3</td>\n",
       "      <td>41</td>\n",
       "      <td>0</td>\n",
       "      <td>6</td>\n",
       "      <td>15</td>\n",
       "    </tr>\n",
       "    <tr>\n",
       "      <th>5</th>\n",
       "      <td>10</td>\n",
       "      <td>0</td>\n",
       "      <td>42.1</td>\n",
       "      <td>14</td>\n",
       "      <td>18</td>\n",
       "      <td>8</td>\n",
       "      <td>17</td>\n",
       "      <td>5</td>\n",
       "      <td>32</td>\n",
       "      <td>0</td>\n",
       "      <td>6</td>\n",
       "      <td>15</td>\n",
       "    </tr>\n",
       "    <tr>\n",
       "      <th>6</th>\n",
       "      <td>12</td>\n",
       "      <td>0</td>\n",
       "      <td>42.1</td>\n",
       "      <td>6</td>\n",
       "      <td>16</td>\n",
       "      <td>8</td>\n",
       "      <td>16</td>\n",
       "      <td>5</td>\n",
       "      <td>45</td>\n",
       "      <td>0</td>\n",
       "      <td>6</td>\n",
       "      <td>15</td>\n",
       "    </tr>\n",
       "    <tr>\n",
       "      <th>7</th>\n",
       "      <td>14</td>\n",
       "      <td>0</td>\n",
       "      <td>42.1</td>\n",
       "      <td>13</td>\n",
       "      <td>7</td>\n",
       "      <td>8</td>\n",
       "      <td>3</td>\n",
       "      <td>4</td>\n",
       "      <td>4</td>\n",
       "      <td>0</td>\n",
       "      <td>6</td>\n",
       "      <td>15</td>\n",
       "    </tr>\n",
       "    <tr>\n",
       "      <th>8</th>\n",
       "      <td>16</td>\n",
       "      <td>0</td>\n",
       "      <td>42.1</td>\n",
       "      <td>9</td>\n",
       "      <td>2</td>\n",
       "      <td>8</td>\n",
       "      <td>2</td>\n",
       "      <td>5</td>\n",
       "      <td>27</td>\n",
       "      <td>0</td>\n",
       "      <td>6</td>\n",
       "      <td>15</td>\n",
       "    </tr>\n",
       "    <tr>\n",
       "      <th>9</th>\n",
       "      <td>18</td>\n",
       "      <td>0</td>\n",
       "      <td>42.1</td>\n",
       "      <td>7</td>\n",
       "      <td>17</td>\n",
       "      <td>8</td>\n",
       "      <td>20</td>\n",
       "      <td>3</td>\n",
       "      <td>22</td>\n",
       "      <td>0</td>\n",
       "      <td>6</td>\n",
       "      <td>15</td>\n",
       "    </tr>\n",
       "  </tbody>\n",
       "</table>\n",
       "</div>"
      ],
      "text/plain": [
       "   Journee  Derby  Victoire_dom  Dom_plac_joun  ext_plac_joun  Dom_plac_final  \\\n",
       "0        1      1          42.1             18              1               8   \n",
       "1        2      0          42.1              7              8               8   \n",
       "2        4      0          42.1              8             13               8   \n",
       "3        6      0          42.1              9              4               8   \n",
       "4        8      0          42.1             13             14               8   \n",
       "5       10      0          42.1             14             18               8   \n",
       "6       12      0          42.1              6             16               8   \n",
       "7       14      0          42.1             13              7               8   \n",
       "8       16      0          42.1              9              2               8   \n",
       "9       18      0          42.1              7             17               8   \n",
       "\n",
       "   ext_plac_final  Jours_label  exterieur_label  Domicile_label  \\\n",
       "0               1            4               36               0   \n",
       "1               9            5               49               0   \n",
       "2              18            5               35               0   \n",
       "3               4            5               25               0   \n",
       "4              19            3               41               0   \n",
       "5              17            5               32               0   \n",
       "6              16            5               45               0   \n",
       "7               3            4                4               0   \n",
       "8               2            5               27               0   \n",
       "9              20            3               22               0   \n",
       "\n",
       "   Capacite_label  Heure_label  \n",
       "0               6           15  \n",
       "1               6           15  \n",
       "2               6           15  \n",
       "3               6           15  \n",
       "4               6           15  \n",
       "5               6           15  \n",
       "6               6           15  \n",
       "7               6           15  \n",
       "8               6           15  \n",
       "9               6           15  "
      ]
     },
     "execution_count": 9,
     "metadata": {},
     "output_type": "execute_result"
    }
   ],
   "source": [
    "X[:10]"
   ]
  },
  {
   "cell_type": "code",
   "execution_count": 9,
   "metadata": {},
   "outputs": [],
   "source": [
    "ss = StandardScaler()\n",
    "Xscaled = ss.fit_transform(X)"
   ]
  },
  {
   "cell_type": "code",
   "execution_count": 10,
   "metadata": {},
   "outputs": [],
   "source": [
    "X_train, X_test, y_train, y_test = train_test_split(X, y, test_size = 0.3, random_state = 86)"
   ]
  },
  {
   "cell_type": "code",
   "execution_count": 11,
   "metadata": {},
   "outputs": [],
   "source": [
    "def evaluate(model):        \n",
    "    model.fit(X_train, y_train)\n",
    "    pred = model.predict(X_test)\n",
    "    model_score = r2_score(y_test, pred)\n",
    "    \n",
    "    s = cross_val_score(model, X, y, cv=5, scoring='r2', n_jobs=-1)\n",
    "        \n",
    "    print (\"R^2 score:\", model_score)\n",
    "    print (\"Cross Validation Score: {:0.5} ± {:0.5}\".format(s.mean().round(5), s.std().round(5)))\n",
    "    \n",
    "#     df = pd.DataFrame(columns=['attendance', 'predictions', 'residuals'])\n",
    "#     df.attendance = y\n",
    "#     df.predictions = model.predict(X)\n",
    "#     df.residuals = df.attendance - df.predictions\n",
    "#     df.plot(x='predictions', y='residuals', kind='scatter')\n",
    "#     plt.show()"
   ]
  },
  {
   "cell_type": "code",
   "execution_count": 12,
   "metadata": {},
   "outputs": [],
   "source": [
    "def feat_imp(model):\n",
    "    feature_importances = pd.DataFrame(model.feature_importances_, index = X.columns, columns=['importance']\n",
    "                                      ).sort_values('importance', ascending=False)\n",
    "    print (feature_importances)"
   ]
  },
  {
   "cell_type": "code",
   "execution_count": 13,
   "metadata": {},
   "outputs": [],
   "source": [
    "rf = RandomForestRegressor(n_estimators=300)"
   ]
  },
  {
   "cell_type": "code",
   "execution_count": 14,
   "metadata": {},
   "outputs": [
    {
     "name": "stdout",
     "output_type": "stream",
     "text": [
      "R^2 score: 0.8200307408575493\n",
      "Cross Validation Score: -0.43641 ± 1.1037\n",
      "Wall time: 4.8 s\n"
     ]
    }
   ],
   "source": [
    "%time evaluate(rf)"
   ]
  },
  {
   "cell_type": "code",
   "execution_count": 15,
   "metadata": {},
   "outputs": [
    {
     "name": "stdout",
     "output_type": "stream",
     "text": [
      "                 importance\n",
      "Dom_plac_final     0.532816\n",
      "Capacite_label     0.179426\n",
      "Journee            0.054729\n",
      "Derby              0.050398\n",
      "ext_plac_joun      0.047437\n",
      "ext_plac_final     0.033254\n",
      "exterieur_label    0.031983\n",
      "Dom_plac_joun      0.028984\n",
      "Victoire_dom       0.016082\n",
      "Heure_label        0.012890\n",
      "Jours_label        0.012001\n",
      "Domicile_label     0.000000\n"
     ]
    }
   ],
   "source": [
    "feat_imp(rf)"
   ]
  },
  {
   "cell_type": "code",
   "execution_count": 16,
   "metadata": {},
   "outputs": [],
   "source": [
    "def rf_gs():\n",
    "    params = {\n",
    "        'max_features' : [0.5, 0.75, 'auto', 'sqrt'],\n",
    "        'max_depth' : [20, 30, None],\n",
    "    }\n",
    "\n",
    "    gs_rf = GridSearchCV(rf, params, n_jobs=-1, cv=5)\n",
    "    gs_rf.fit(X_train, y_train)\n",
    "\n",
    "    print (gs_rf.best_params_)"
   ]
  },
  {
   "cell_type": "code",
   "execution_count": 17,
   "metadata": {},
   "outputs": [
    {
     "name": "stdout",
     "output_type": "stream",
     "text": [
      "{'max_depth': 30, 'max_features': 0.75}\n",
      "Wall time: 15.1 s\n"
     ]
    }
   ],
   "source": [
    "%time rf_gs()"
   ]
  },
  {
   "cell_type": "code",
   "execution_count": 18,
   "metadata": {},
   "outputs": [],
   "source": [
    "rf_best_params = RandomForestRegressor(n_estimators=300, max_features=0.5, max_depth=None)"
   ]
  },
  {
   "cell_type": "code",
   "execution_count": 19,
   "metadata": {
    "scrolled": true
   },
   "outputs": [
    {
     "name": "stdout",
     "output_type": "stream",
     "text": [
      "R^2 score: 0.8000077391403692\n",
      "Cross Validation Score: -0.32913 ± 0.84168\n",
      "Wall time: 4.09 s\n"
     ]
    }
   ],
   "source": [
    "%time evaluate(rf_best_params)"
   ]
  },
  {
   "cell_type": "code",
   "execution_count": 20,
   "metadata": {},
   "outputs": [
    {
     "name": "stdout",
     "output_type": "stream",
     "text": [
      "                 importance\n",
      "Dom_plac_final     0.344859\n",
      "Capacite_label     0.204127\n",
      "Dom_plac_joun      0.140536\n",
      "Journee            0.059750\n",
      "ext_plac_joun      0.049383\n",
      "Victoire_dom       0.044732\n",
      "ext_plac_final     0.042868\n",
      "Derby              0.036951\n",
      "exterieur_label    0.032598\n",
      "Heure_label        0.028431\n",
      "Jours_label        0.015765\n",
      "Domicile_label     0.000000\n"
     ]
    }
   ],
   "source": [
    "feat_imp(rf_best_params)"
   ]
  },
  {
   "cell_type": "code",
   "execution_count": 21,
   "metadata": {},
   "outputs": [],
   "source": [
    "#Linear regression"
   ]
  },
  {
   "cell_type": "code",
   "execution_count": 22,
   "metadata": {},
   "outputs": [],
   "source": [
    "X = dataset.drop(['Jours', 'exterieur', 'Capacite', 'Affluence','Date','Heure','Domicile','Resultat'], axis = 1)\n",
    "y = dataset.Affluence"
   ]
  },
  {
   "cell_type": "code",
   "execution_count": 23,
   "metadata": {},
   "outputs": [],
   "source": [
    "ss = StandardScaler()\n",
    "Xscaled = ss.fit_transform(X)"
   ]
  },
  {
   "cell_type": "code",
   "execution_count": 24,
   "metadata": {},
   "outputs": [],
   "source": [
    "X = add_constant(X)"
   ]
  },
  {
   "cell_type": "code",
   "execution_count": 25,
   "metadata": {},
   "outputs": [],
   "source": [
    "X_train, X_test, y_train, y_test = train_test_split(X, y, test_size = 0.3, random_state = 86)"
   ]
  },
  {
   "cell_type": "code",
   "execution_count": 26,
   "metadata": {},
   "outputs": [],
   "source": [
    "lin_model = OLS(y_train, X_train).fit()"
   ]
  },
  {
   "cell_type": "code",
   "execution_count": 27,
   "metadata": {},
   "outputs": [
    {
     "name": "stdout",
     "output_type": "stream",
     "text": [
      "R^2 score: 0.5935391273158919\n"
     ]
    }
   ],
   "source": [
    "lin_pred = lin_model.predict(X_test)\n",
    "lin_model_score = r2_score(y_test, lin_pred)\n",
    "\n",
    "print (\"R^2 score:\", lin_model_score)"
   ]
  },
  {
   "cell_type": "code",
   "execution_count": 76,
   "metadata": {},
   "outputs": [
    {
     "data": {
      "text/html": [
       "<table class=\"simpletable\">\n",
       "<caption>OLS Regression Results</caption>\n",
       "<tr>\n",
       "  <th>Dep. Variable:</th>        <td>Affluence</td>    <th>  R-squared:         </th> <td>   0.553</td>\n",
       "</tr>\n",
       "<tr>\n",
       "  <th>Model:</th>                   <td>OLS</td>       <th>  Adj. R-squared:    </th> <td>   0.539</td>\n",
       "</tr>\n",
       "<tr>\n",
       "  <th>Method:</th>             <td>Least Squares</td>  <th>  F-statistic:       </th> <td>   41.15</td>\n",
       "</tr>\n",
       "<tr>\n",
       "  <th>Date:</th>             <td>Sun, 15 Jul 2018</td> <th>  Prob (F-statistic):</th> <td>2.33e-57</td>\n",
       "</tr>\n",
       "<tr>\n",
       "  <th>Time:</th>                 <td>00:59:36</td>     <th>  Log-Likelihood:    </th> <td> -3852.4</td>\n",
       "</tr>\n",
       "<tr>\n",
       "  <th>No. Observations:</th>      <td>   378</td>      <th>  AIC:               </th> <td>   7729.</td>\n",
       "</tr>\n",
       "<tr>\n",
       "  <th>Df Residuals:</th>          <td>   366</td>      <th>  BIC:               </th> <td>   7776.</td>\n",
       "</tr>\n",
       "<tr>\n",
       "  <th>Df Model:</th>              <td>    11</td>      <th>                     </th>     <td> </td>   \n",
       "</tr>\n",
       "<tr>\n",
       "  <th>Covariance Type:</th>      <td>nonrobust</td>    <th>                     </th>     <td> </td>   \n",
       "</tr>\n",
       "</table>\n",
       "<table class=\"simpletable\">\n",
       "<tr>\n",
       "         <td></td>            <th>coef</th>     <th>std err</th>      <th>t</th>      <th>P>|t|</th>  <th>[0.025</th>    <th>0.975]</th>  \n",
       "</tr>\n",
       "<tr>\n",
       "  <th>const</th>           <td> 5.288e+04</td> <td> 3615.940</td> <td>   14.625</td> <td> 0.000</td> <td> 4.58e+04</td> <td>    6e+04</td>\n",
       "</tr>\n",
       "<tr>\n",
       "  <th>Journee</th>         <td>   37.4227</td> <td>   32.661</td> <td>    1.146</td> <td> 0.253</td> <td>  -26.804</td> <td>  101.649</td>\n",
       "</tr>\n",
       "<tr>\n",
       "  <th>Derby</th>           <td> 5978.6517</td> <td> 1116.711</td> <td>    5.354</td> <td> 0.000</td> <td> 3782.676</td> <td> 8174.628</td>\n",
       "</tr>\n",
       "<tr>\n",
       "  <th>Victoire_dom</th>    <td> -168.2802</td> <td>   48.711</td> <td>   -3.455</td> <td> 0.001</td> <td> -264.069</td> <td>  -72.491</td>\n",
       "</tr>\n",
       "<tr>\n",
       "  <th>Dom_plac_joun</th>   <td> -300.9303</td> <td>  142.082</td> <td>   -2.118</td> <td> 0.035</td> <td> -580.331</td> <td>  -21.530</td>\n",
       "</tr>\n",
       "<tr>\n",
       "  <th>ext_plac_joun</th>   <td>  -56.2589</td> <td>   96.067</td> <td>   -0.586</td> <td> 0.558</td> <td> -245.171</td> <td>  132.654</td>\n",
       "</tr>\n",
       "<tr>\n",
       "  <th>Dom_plac_final</th>  <td>-1880.1348</td> <td>  208.773</td> <td>   -9.006</td> <td> 0.000</td> <td>-2290.680</td> <td>-1469.590</td>\n",
       "</tr>\n",
       "<tr>\n",
       "  <th>ext_plac_final</th>  <td> -128.8728</td> <td>   94.547</td> <td>   -1.363</td> <td> 0.174</td> <td> -314.797</td> <td>   57.052</td>\n",
       "</tr>\n",
       "<tr>\n",
       "  <th>Jours_label</th>     <td> -187.5698</td> <td>  173.150</td> <td>   -1.083</td> <td> 0.279</td> <td> -528.063</td> <td>  152.923</td>\n",
       "</tr>\n",
       "<tr>\n",
       "  <th>exterieur_label</th> <td>  -44.9820</td> <td>   22.865</td> <td>   -1.967</td> <td> 0.050</td> <td>  -89.945</td> <td>   -0.019</td>\n",
       "</tr>\n",
       "<tr>\n",
       "  <th>Domicile_label</th>  <td> 7.444e-14</td> <td> 9.42e-15</td> <td>    7.901</td> <td> 0.000</td> <td> 5.59e-14</td> <td>  9.3e-14</td>\n",
       "</tr>\n",
       "<tr>\n",
       "  <th>Capacite_label</th>  <td>  123.5893</td> <td>  188.530</td> <td>    0.656</td> <td> 0.513</td> <td> -247.149</td> <td>  494.328</td>\n",
       "</tr>\n",
       "<tr>\n",
       "  <th>Heure_label</th>     <td>    4.6340</td> <td>   75.383</td> <td>    0.061</td> <td> 0.951</td> <td> -143.605</td> <td>  152.873</td>\n",
       "</tr>\n",
       "</table>\n",
       "<table class=\"simpletable\">\n",
       "<tr>\n",
       "  <th>Omnibus:</th>       <td>12.495</td> <th>  Durbin-Watson:     </th> <td>   2.005</td>\n",
       "</tr>\n",
       "<tr>\n",
       "  <th>Prob(Omnibus):</th> <td> 0.002</td> <th>  Jarque-Bera (JB):  </th> <td>  21.881</td>\n",
       "</tr>\n",
       "<tr>\n",
       "  <th>Skew:</th>          <td> 0.175</td> <th>  Prob(JB):          </th> <td>1.77e-05</td>\n",
       "</tr>\n",
       "<tr>\n",
       "  <th>Kurtosis:</th>      <td> 4.126</td> <th>  Cond. No.          </th> <td>2.07e+18</td>\n",
       "</tr>\n",
       "</table><br/><br/>Warnings:<br/>[1] Standard Errors assume that the covariance matrix of the errors is correctly specified.<br/>[2] The smallest eigenvalue is 4.68e-31. This might indicate that there are<br/>strong multicollinearity problems or that the design matrix is singular."
      ],
      "text/plain": [
       "<class 'statsmodels.iolib.summary.Summary'>\n",
       "\"\"\"\n",
       "                            OLS Regression Results                            \n",
       "==============================================================================\n",
       "Dep. Variable:              Affluence   R-squared:                       0.553\n",
       "Model:                            OLS   Adj. R-squared:                  0.539\n",
       "Method:                 Least Squares   F-statistic:                     41.15\n",
       "Date:                Sun, 15 Jul 2018   Prob (F-statistic):           2.33e-57\n",
       "Time:                        00:59:36   Log-Likelihood:                -3852.4\n",
       "No. Observations:                 378   AIC:                             7729.\n",
       "Df Residuals:                     366   BIC:                             7776.\n",
       "Df Model:                          11                                         \n",
       "Covariance Type:            nonrobust                                         \n",
       "===================================================================================\n",
       "                      coef    std err          t      P>|t|      [0.025      0.975]\n",
       "-----------------------------------------------------------------------------------\n",
       "const            5.288e+04   3615.940     14.625      0.000    4.58e+04       6e+04\n",
       "Journee            37.4227     32.661      1.146      0.253     -26.804     101.649\n",
       "Derby            5978.6517   1116.711      5.354      0.000    3782.676    8174.628\n",
       "Victoire_dom     -168.2802     48.711     -3.455      0.001    -264.069     -72.491\n",
       "Dom_plac_joun    -300.9303    142.082     -2.118      0.035    -580.331     -21.530\n",
       "ext_plac_joun     -56.2589     96.067     -0.586      0.558    -245.171     132.654\n",
       "Dom_plac_final  -1880.1348    208.773     -9.006      0.000   -2290.680   -1469.590\n",
       "ext_plac_final   -128.8728     94.547     -1.363      0.174    -314.797      57.052\n",
       "Jours_label      -187.5698    173.150     -1.083      0.279    -528.063     152.923\n",
       "exterieur_label   -44.9820     22.865     -1.967      0.050     -89.945      -0.019\n",
       "Domicile_label   7.444e-14   9.42e-15      7.901      0.000    5.59e-14     9.3e-14\n",
       "Capacite_label    123.5893    188.530      0.656      0.513    -247.149     494.328\n",
       "Heure_label         4.6340     75.383      0.061      0.951    -143.605     152.873\n",
       "==============================================================================\n",
       "Omnibus:                       12.495   Durbin-Watson:                   2.005\n",
       "Prob(Omnibus):                  0.002   Jarque-Bera (JB):               21.881\n",
       "Skew:                           0.175   Prob(JB):                     1.77e-05\n",
       "Kurtosis:                       4.126   Cond. No.                     2.07e+18\n",
       "==============================================================================\n",
       "\n",
       "Warnings:\n",
       "[1] Standard Errors assume that the covariance matrix of the errors is correctly specified.\n",
       "[2] The smallest eigenvalue is 4.68e-31. This might indicate that there are\n",
       "strong multicollinearity problems or that the design matrix is singular.\n",
       "\"\"\""
      ]
     },
     "execution_count": 76,
     "metadata": {},
     "output_type": "execute_result"
    }
   ],
   "source": [
    "lin_model.summary()"
   ]
  },
  {
   "cell_type": "code",
   "execution_count": null,
   "metadata": {},
   "outputs": [],
   "source": [
    "#Gradient Boosting"
   ]
  },
  {
   "cell_type": "code",
   "execution_count": 77,
   "metadata": {},
   "outputs": [],
   "source": [
    "X = dataset.drop(['Jours', 'exterieur', 'Capacite', 'Affluence','Date','Heure','Domicile','Resultat'], axis = 1)\n",
    "y = dataset.Affluence"
   ]
  },
  {
   "cell_type": "code",
   "execution_count": 81,
   "metadata": {},
   "outputs": [],
   "source": [
    "ss = StandardScaler()\n",
    "Xscaled = ss.fit_transform(X)"
   ]
  },
  {
   "cell_type": "code",
   "execution_count": 82,
   "metadata": {},
   "outputs": [],
   "source": [
    "X_train, X_test, y_train, y_test = train_test_split(X, y, test_size = 0.3, random_state = 86)"
   ]
  },
  {
   "cell_type": "code",
   "execution_count": 83,
   "metadata": {},
   "outputs": [],
   "source": [
    "gbr = GradientBoostingRegressor()"
   ]
  },
  {
   "cell_type": "code",
   "execution_count": 84,
   "metadata": {},
   "outputs": [
    {
     "name": "stdout",
     "output_type": "stream",
     "text": [
      "R^2 score: 0.8305244738410463\n",
      "Cross Validation Score: -0.37365 ± 1.0283\n"
     ]
    },
    {
     "data": {
      "image/png": "[encoded data removed]",
      "text/plain": [
       "<Figure size 432x288 with 1 Axes>"
      ]
     },
     "metadata": {},
     "output_type": "display_data"
    },
    {
     "name": "stdout",
     "output_type": "stream",
     "text": [
      "Wall time: 3.91 s\n"
     ]
    }
   ],
   "source": [
    "%time evaluate(gbr)"
   ]
  },
  {
   "cell_type": "code",
   "execution_count": 87,
   "metadata": {},
   "outputs": [],
   "source": [
    "def gbr_gs():\n",
    "    params = {\n",
    "        'max_features' : [0.5, 0.75, 'auto', 'sqrt'],\n",
    "        'max_depth' : [3, 5, 8, 15],\n",
    "    }\n",
    "\n",
    "    gs_gbr = GridSearchCV(gbr, params, n_jobs=-1, cv=5)\n",
    "    gs_gbr.fit(X_train, y_train)\n",
    "\n",
    "    print (gs_gbr.best_params_)"
   ]
  },
  {
   "cell_type": "code",
   "execution_count": 88,
   "metadata": {},
   "outputs": [
    {
     "name": "stdout",
     "output_type": "stream",
     "text": [
      "{'max_depth': 3, 'max_features': 0.5}\n",
      "Wall time: 5.6 s\n"
     ]
    }
   ],
   "source": [
    "%time gbr_gs()"
   ]
  },
  {
   "cell_type": "code",
   "execution_count": 89,
   "metadata": {},
   "outputs": [],
   "source": [
    "gbr_best_params = GradientBoostingRegressor(max_features='auto', max_depth=8)"
   ]
  },
  {
   "cell_type": "code",
   "execution_count": 90,
   "metadata": {},
   "outputs": [
    {
     "name": "stdout",
     "output_type": "stream",
     "text": [
      "R^2 score: 0.8388958385910048\n",
      "Cross Validation Score: -0.57768 ± 1.3723\n"
     ]
    },
    {
     "data": {
      "image/png": "[encoded data removed]",
      "text/plain": [
       "<Figure size 432x288 with 1 Axes>"
      ]
     },
     "metadata": {},
     "output_type": "display_data"
    },
    {
     "name": "stdout",
     "output_type": "stream",
     "text": [
      "Wall time: 3.57 s\n"
     ]
    }
   ],
   "source": [
    "%time evaluate(gbr_best_params)"
   ]
  },
  {
   "cell_type": "code",
   "execution_count": null,
   "metadata": {},
   "outputs": [],
   "source": [
    "# adjust parameters"
   ]
  },
  {
   "cell_type": "code",
   "execution_count": 91,
   "metadata": {},
   "outputs": [],
   "source": [
    "gbr_best_params = GradientBoostingRegressor(n_estimators=500, max_features='auto', max_depth=10)"
   ]
  },
  {
   "cell_type": "code",
   "execution_count": 92,
   "metadata": {},
   "outputs": [
    {
     "name": "stdout",
     "output_type": "stream",
     "text": [
      "R^2 score: 0.8261417883132213\n",
      "Cross Validation Score: -0.7084 ± 1.3142\n"
     ]
    },
    {
     "data": {
      "image/png": "[encoded data removed]",
      "text/plain": [
       "<Figure size 432x288 with 1 Axes>"
      ]
     },
     "metadata": {},
     "output_type": "display_data"
    },
    {
     "name": "stdout",
     "output_type": "stream",
     "text": [
      "Wall time: 4.41 s\n"
     ]
    }
   ],
   "source": [
    "%time evaluate(gbr_best_params)"
   ]
  },
  {
   "cell_type": "code",
   "execution_count": 93,
   "metadata": {},
   "outputs": [
    {
     "name": "stdout",
     "output_type": "stream",
     "text": [
      "                 importance\n",
      "Journee            0.086986\n",
      "Dom_plac_final     0.069303\n",
      "exterieur_label    0.064669\n",
      "ext_plac_joun      0.059263\n",
      "ext_plac_final     0.052038\n",
      "Victoire_dom       0.037069\n",
      "Dom_plac_joun      0.036093\n",
      "Capacite_label     0.035749\n",
      "Heure_label        0.032840\n",
      "Jours_label        0.019096\n",
      "Derby              0.008892\n",
      "Domicile_label     0.000000\n"
     ]
    }
   ],
   "source": [
    "feat_imp(gbr_best_params)"
   ]
  },
  {
   "cell_type": "code",
   "execution_count": null,
   "metadata": {},
   "outputs": [],
   "source": []
  }
 ],
 "metadata": {
  "kernelspec": {
   "display_name": "Python 3",
   "language": "python",
   "name": "python3"
  },
  "language_info": {
   "codemirror_mode": {
    "name": "ipython",
    "version": 3
   },
   "file_extension": ".py",
   "mimetype": "text/x-python",
   "name": "python",
   "nbconvert_exporter": "python",
   "pygments_lexer": "ipython3",
   "version": "3.6.5"
  }
 },
 "nbformat": 4,
 "nbformat_minor": 2
}
