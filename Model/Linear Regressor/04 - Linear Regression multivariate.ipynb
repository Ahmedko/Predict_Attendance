{
 "cells": [
  {
   "cell_type": "code",
   "execution_count": 13,
   "metadata": {},
   "outputs": [],
   "source": [
    "# Let's load the data into python and take a look at it# Let's  \n",
    "import pandas as pd\n",
    "import matplotlib.pyplot as plt\n",
    "%matplotlib inline  \n",
    "\n",
    "# Loading entire dataset\n",
    "dataset = pd.read_csv('dataset.csv')"
   ]
  },
  {
   "cell_type": "code",
   "execution_count": 14,
   "metadata": {},
   "outputs": [
    {
     "data": {
      "text/html": [
       "<div>\n",
       "<style scoped>\n",
       "    .dataframe tbody tr th:only-of-type {\n",
       "        vertical-align: middle;\n",
       "    }\n",
       "\n",
       "    .dataframe tbody tr th {\n",
       "        vertical-align: top;\n",
       "    }\n",
       "\n",
       "    .dataframe thead th {\n",
       "        text-align: right;\n",
       "    }\n",
       "</style>\n",
       "<table border=\"1\" class=\"dataframe\">\n",
       "  <thead>\n",
       "    <tr style=\"text-align: right;\">\n",
       "      <th></th>\n",
       "      <th>Affluence</th>\n",
       "      <th>Capacite</th>\n",
       "      <th>Journee</th>\n",
       "      <th>Jours</th>\n",
       "      <th>Date</th>\n",
       "      <th>Heure</th>\n",
       "      <th>Domicile</th>\n",
       "      <th>Resultat</th>\n",
       "      <th>exterieur</th>\n",
       "      <th>Derby</th>\n",
       "      <th>Victoire_dom</th>\n",
       "      <th>Dom_plac_joun</th>\n",
       "      <th>ext_plac_joun</th>\n",
       "      <th>Dom_plac_final</th>\n",
       "      <th>ext_plac_final</th>\n",
       "    </tr>\n",
       "  </thead>\n",
       "  <tbody>\n",
       "    <tr>\n",
       "      <th>0</th>\n",
       "      <td>24551</td>\n",
       "      <td>50000</td>\n",
       "      <td>1</td>\n",
       "      <td>sam</td>\n",
       "      <td>21/07/1989</td>\n",
       "      <td>20:30</td>\n",
       "      <td>Olympique de lyonnais</td>\n",
       "      <td>1-4</td>\n",
       "      <td>Olympique de Marseille</td>\n",
       "      <td>1</td>\n",
       "      <td>42.1</td>\n",
       "      <td>18</td>\n",
       "      <td>1</td>\n",
       "      <td>8</td>\n",
       "      <td>1</td>\n",
       "    </tr>\n",
       "    <tr>\n",
       "      <th>1</th>\n",
       "      <td>15572</td>\n",
       "      <td>50000</td>\n",
       "      <td>2</td>\n",
       "      <td>ven</td>\n",
       "      <td>29/07/1989</td>\n",
       "      <td>20:30</td>\n",
       "      <td>Olympique de lyonnais</td>\n",
       "      <td>3-0</td>\n",
       "      <td>Toulouse FC</td>\n",
       "      <td>0</td>\n",
       "      <td>42.1</td>\n",
       "      <td>7</td>\n",
       "      <td>8</td>\n",
       "      <td>8</td>\n",
       "      <td>9</td>\n",
       "    </tr>\n",
       "    <tr>\n",
       "      <th>2</th>\n",
       "      <td>15753</td>\n",
       "      <td>50000</td>\n",
       "      <td>4</td>\n",
       "      <td>ven</td>\n",
       "      <td>05/08/1989</td>\n",
       "      <td>20:30</td>\n",
       "      <td>Olympique de lyonnais</td>\n",
       "      <td>2-0</td>\n",
       "      <td>OGC Nice</td>\n",
       "      <td>0</td>\n",
       "      <td>42.1</td>\n",
       "      <td>8</td>\n",
       "      <td>13</td>\n",
       "      <td>8</td>\n",
       "      <td>18</td>\n",
       "    </tr>\n",
       "  </tbody>\n",
       "</table>\n",
       "</div>"
      ],
      "text/plain": [
       "   Affluence  Capacite  Journee Jours        Date  Heure  \\\n",
       "0      24551     50000        1   sam  21/07/1989  20:30   \n",
       "1      15572     50000        2   ven  29/07/1989  20:30   \n",
       "2      15753     50000        4   ven  05/08/1989  20:30   \n",
       "\n",
       "                Domicile Resultat               exterieur  Derby  \\\n",
       "0  Olympique de lyonnais      1-4  Olympique de Marseille      1   \n",
       "1  Olympique de lyonnais      3-0             Toulouse FC      0   \n",
       "2  Olympique de lyonnais      2-0                OGC Nice      0   \n",
       "\n",
       "   Victoire_dom  Dom_plac_joun  ext_plac_joun  Dom_plac_final  ext_plac_final  \n",
       "0          42.1             18              1               8               1  \n",
       "1          42.1              7              8               8               9  \n",
       "2          42.1              8             13               8              18  "
      ]
     },
     "execution_count": 14,
     "metadata": {},
     "output_type": "execute_result"
    }
   ],
   "source": [
    "dataset.head(3)"
   ]
  },
  {
   "cell_type": "code",
   "execution_count": 15,
   "metadata": {},
   "outputs": [],
   "source": [
    "from sklearn.preprocessing import LabelEncoder, StandardScaler\n",
    "from sklearn.ensemble import RandomForestRegressor, GradientBoostingRegressor\n",
    "from sklearn.svm import SVR, LinearSVR\n",
    "from sklearn.model_selection import train_test_split, cross_val_score, GridSearchCV\n",
    "from sklearn.metrics import r2_score\n",
    "from statsmodels.tools.tools import add_constant\n",
    "from statsmodels.regression.linear_model import OLS\n",
    "import time\n",
    "\n",
    "le = LabelEncoder()\n",
    "\n",
    "dataset['Jours_label'] = le.fit_transform(dataset.Jours)\n",
    "dataset['exterieur_label'] = le.fit_transform(dataset.exterieur)\n",
    "dataset['Domicile_label'] = le.fit_transform(dataset.Domicile)\n",
    "dataset['Capacite_label'] = le.fit_transform(dataset.Capacite)\n",
    "dataset['Heure_label'] = le.fit_transform(dataset.Heure)"
   ]
  },
  {
   "cell_type": "code",
   "execution_count": 16,
   "metadata": {},
   "outputs": [
    {
     "name": "stdout",
     "output_type": "stream",
     "text": [
      "   Journee  Derby  Victoire_dom  Dom_plac_joun  ext_plac_joun  Dom_plac_final  \\\n",
      "0        1      1          42.1             18              1               8   \n",
      "1        2      0          42.1              7              8               8   \n",
      "2        4      0          42.1              8             13               8   \n",
      "3        6      0          42.1              9              4               8   \n",
      "4        8      0          42.1             13             14               8   \n",
      "\n",
      "   ext_plac_final  Jours_label  exterieur_label  Domicile_label  \\\n",
      "0               1            4               36               0   \n",
      "1               9            5               49               0   \n",
      "2              18            5               35               0   \n",
      "3               4            5               25               0   \n",
      "4              19            3               41               0   \n",
      "\n",
      "   Capacite_label  Heure_label  \n",
      "0               6           15  \n",
      "1               6           15  \n",
      "2               6           15  \n",
      "3               6           15  \n",
      "4               6           15  \n"
     ]
    }
   ],
   "source": [
    "X = dataset.drop(['Jours', 'exterieur', 'Capacite', 'Affluence','Date','Heure','Domicile','Resultat'], axis = 1)\n",
    "y = dataset.iloc[:, 0].values\n",
    "print (X[:5])\n",
    "X = X.iloc[:, :-1].values"
   ]
  },
  {
   "cell_type": "code",
   "execution_count": 17,
   "metadata": {},
   "outputs": [],
   "source": [
    "from sklearn.preprocessing import LabelEncoder, OneHotEncoder\n",
    "X_label_encoder = LabelEncoder()\n",
    "X[:,0] = X_label_encoder.fit_transform(X[:,0])\n",
    "one_hot_encoder = OneHotEncoder(categorical_features=[0])\n",
    "X = one_hot_encoder.fit_transform(X).toarray()"
   ]
  },
  {
   "cell_type": "code",
   "execution_count": 18,
   "metadata": {},
   "outputs": [
    {
     "data": {
      "text/plain": [
       "array([[ 1. ,  0. ,  0. ,  0. ,  0. ,  0. ,  0. ,  0. ,  0. ,  0. ,  0. ,\n",
       "         0. ,  0. ,  0. ,  0. ,  0. ,  0. ,  0. ,  0. ,  0. ,  0. ,  0. ,\n",
       "         0. ,  0. ,  0. ,  0. ,  0. ,  0. ,  0. ,  0. ,  0. ,  0. ,  0. ,\n",
       "         0. ,  0. ,  0. ,  0. ,  0. ,  1. , 42.1, 18. ,  1. ,  8. ,  1. ,\n",
       "         4. , 36. ,  0. ,  6. ]])"
      ]
     },
     "execution_count": 18,
     "metadata": {},
     "output_type": "execute_result"
    }
   ],
   "source": [
    "X[:1]"
   ]
  },
  {
   "cell_type": "code",
   "execution_count": 19,
   "metadata": {},
   "outputs": [],
   "source": [
    "X_train, X_test, y_train, y_test = train_test_split(X, y, test_size = 0.2)"
   ]
  },
  {
   "cell_type": "code",
   "execution_count": 20,
   "metadata": {},
   "outputs": [],
   "source": [
    "# Training our model\n",
    "from sklearn.linear_model import LinearRegression\n",
    "regressor = LinearRegression()\n",
    "regressor.fit(X_train, y_train)\n",
    "\n",
    "# Predicting values using our trained model\n",
    "y_pred = regressor.predict(X_test)"
   ]
  },
  {
   "cell_type": "code",
   "execution_count": 21,
   "metadata": {},
   "outputs": [
    {
     "data": {
      "text/plain": [
       "array([-2.99407327e+02,  1.13806623e+03,  2.99023061e+02,  7.70995420e+02,\n",
       "       -3.12661132e+02,  1.08329990e+03, -3.79472074e+00,  7.55530811e+02,\n",
       "        1.07023780e+03,  7.14764440e+02,  6.09391886e+02,  2.08549412e+02,\n",
       "        1.46978153e+02, -2.82063811e+03, -1.06570995e+03, -2.01177247e+03,\n",
       "       -2.81444193e+03, -4.40932824e+02, -3.49676719e+03,  1.38480903e+03,\n",
       "       -1.85603032e+03,  2.29045069e+03, -6.66631255e+03, -2.72131143e+03,\n",
       "       -1.36370564e+03, -2.29854986e+03,  3.91264121e+03, -1.32319712e+02,\n",
       "       -1.41763085e+03,  1.22492961e+03, -1.52757351e+03,  2.59313141e+02,\n",
       "       -1.78134537e+02, -1.14171079e+01,  3.61584638e+03,  5.45648285e+02,\n",
       "        6.81266275e+03,  4.59597296e+03,  5.40198291e+03, -1.84700214e+02,\n",
       "       -3.55890118e+02, -6.15300715e+01, -1.78760699e+03, -1.79587748e+02,\n",
       "       -3.85009590e+02, -3.94855331e+01,  0.00000000e+00,  1.54991518e+02])"
      ]
     },
     "execution_count": 21,
     "metadata": {},
     "output_type": "execute_result"
    }
   ],
   "source": [
    "regressor.coef_"
   ]
  },
  {
   "cell_type": "code",
   "execution_count": 22,
   "metadata": {},
   "outputs": [
    {
     "data": {
      "text/plain": [
       "array([19872, 18144, 40976, 39467, 19881, 38915, 34099, 11975, 35807,\n",
       "       38827, 40397, 18350, 32513, 20000, 34529, 47651, 30746, 33971,\n",
       "       18451, 15572, 55168, 30430, 38705, 12964, 36205, 37680, 37353,\n",
       "       13711, 24832, 20693, 15753, 22064, 26172, 15000, 39758, 36448,\n",
       "       21779, 35729, 36691, 37958, 34218, 32720, 37281, 39280, 37677,\n",
       "       33682, 37903, 34678, 32488, 31634, 16323, 38225, 37715, 11116,\n",
       "       22649, 47513, 36072, 29960, 40426, 37976, 36822, 29506, 25000,\n",
       "       32730, 16853, 24238, 39312, 40026, 34157, 47505, 33669, 38838,\n",
       "       20000, 48548, 50080, 55107, 12368, 38323, 18049, 36151, 36341,\n",
       "       25658, 36300, 20847, 35650, 31679, 57582, 33593, 32547, 23610,\n",
       "       37131, 37334, 23382, 37949, 22399, 32193, 21750, 38378, 26480,\n",
       "       20959, 13896, 37026, 17554, 38420, 38811, 38438, 38809, 32936],\n",
       "      dtype=int64)"
      ]
     },
     "execution_count": 22,
     "metadata": {},
     "output_type": "execute_result"
    }
   ],
   "source": [
    "y_test"
   ]
  },
  {
   "cell_type": "code",
   "execution_count": 23,
   "metadata": {},
   "outputs": [
    {
     "data": {
      "text/plain": [
       "array([12479, 27689, 32055, 38320, 24843, 46671, 30333, 14079, 32760,\n",
       "       40658, 37244, 21931, 30110, 22951, 32510, 35287, 29218, 37029,\n",
       "       11389, 27281, 33496, 32457, 38386, 25728, 25947, 35323, 37051,\n",
       "       14234, 31960, 29399, 25187, 23672, 33065, 23492, 41754, 36288,\n",
       "       17353, 35383, 36099, 33120, 37369, 28804, 30274, 36714, 33796,\n",
       "       32015, 23690, 34632, 36234, 32711, 24351, 33930, 41747, 13504,\n",
       "       30082, 33077, 39598, 32214, 39922, 33562, 40045, 29534, 42544,\n",
       "       26328, 25941, 32319, 38591, 35973, 41912, 32796, 34117, 31216,\n",
       "       23444, 30634, 37153, 36097,  6146, 39174, 29309, 34739, 36470,\n",
       "       33480, 33209, 24297, 26129, 31086, 45077, 29888, 31856, 24155,\n",
       "       39252, 34506, 26287, 33739, 25275, 26801, 33295, 41257, 25915,\n",
       "       32083, 22679, 38213, 29090, 31615, 39724, 41129, 37025, 34757])"
      ]
     },
     "execution_count": 23,
     "metadata": {},
     "output_type": "execute_result"
    }
   ],
   "source": [
    "# Let's convert all values to integers for better comparison\n",
    "y_pred.astype(int)"
   ]
  },
  {
   "cell_type": "code",
   "execution_count": 44,
   "metadata": {},
   "outputs": [
    {
     "name": "stdout",
     "output_type": "stream",
     "text": [
      "Explained Variance Score: 0.507016781375185\n",
      "Mean Absolute Error 5319.018771469226\n",
      "Mean Squared Error 50347488.52181686\n",
      "R Squared Error 0.5066501622651769\n"
     ]
    }
   ],
   "source": [
    "from sklearn.metrics import explained_variance_score, mean_absolute_error, mean_squared_error, r2_score\n",
    "ex_var_score = explained_variance_score(y_test, y_pred)\n",
    "m_absolute_error = mean_absolute_error(y_test, y_pred)\n",
    "m_squared_error = mean_squared_error(y_test, y_pred)\n",
    "r_2_score = r2_score(y_test, y_pred)\n",
    "\n",
    "print(\"Explained Variance Score: \"+str(ex_var_score))\n",
    "print(\"Mean Absolute Error \"+str(m_absolute_error))\n",
    "print(\"Mean Squared Error \"+str(m_squared_error))\n",
    "print(\"R Squared Error \"+str(r_2_score))"
   ]
  }
 ],
 "metadata": {
  "kernelspec": {
   "display_name": "Python 3",
   "language": "python",
   "name": "python3"
  },
  "language_info": {
   "codemirror_mode": {
    "name": "ipython",
    "version": 3
   },
   "file_extension": ".py",
   "mimetype": "text/x-python",
   "name": "python",
   "nbconvert_exporter": "python",
   "pygments_lexer": "ipython3",
   "version": "3.6.5"
  }
 },
 "nbformat": 4,
 "nbformat_minor": 2
}
