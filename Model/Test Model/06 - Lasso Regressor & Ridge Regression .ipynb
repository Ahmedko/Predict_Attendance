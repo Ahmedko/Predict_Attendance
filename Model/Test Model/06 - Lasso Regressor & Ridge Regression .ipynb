{
 "cells": [
  {
   "cell_type": "code",
   "execution_count": 165,
   "metadata": {},
   "outputs": [],
   "source": [
    "%matplotlib inline\n",
    "\n",
    "import pandas as pd\n",
    "import numpy as np\n",
    "import matplotlib.pyplot as plt\n",
    "\n",
    "from sklearn.preprocessing import scale \n",
    "from sklearn.model_selection import train_test_split\n",
    "from sklearn.linear_model import LassoLarsCV\n",
    "from sklearn.metrics import mean_squared_error"
   ]
  },
  {
   "cell_type": "code",
   "execution_count": 166,
   "metadata": {},
   "outputs": [],
   "source": [
    "# Loading entire dataset\n",
    "dataset = pd.read_csv('dataset.csv')"
   ]
  },
  {
   "cell_type": "code",
   "execution_count": 167,
   "metadata": {},
   "outputs": [
    {
     "data": {
      "text/html": [
       "<div>\n",
       "<style scoped>\n",
       "    .dataframe tbody tr th:only-of-type {\n",
       "        vertical-align: middle;\n",
       "    }\n",
       "\n",
       "    .dataframe tbody tr th {\n",
       "        vertical-align: top;\n",
       "    }\n",
       "\n",
       "    .dataframe thead th {\n",
       "        text-align: right;\n",
       "    }\n",
       "</style>\n",
       "<table border=\"1\" class=\"dataframe\">\n",
       "  <thead>\n",
       "    <tr style=\"text-align: right;\">\n",
       "      <th></th>\n",
       "      <th>Affluence</th>\n",
       "      <th>Capacite</th>\n",
       "      <th>Journee</th>\n",
       "      <th>Jours</th>\n",
       "      <th>Date</th>\n",
       "      <th>Heure</th>\n",
       "      <th>Domicile</th>\n",
       "      <th>Resultat</th>\n",
       "      <th>exterieur</th>\n",
       "      <th>Derby</th>\n",
       "      <th>Victoire_dom</th>\n",
       "      <th>Dom_plac_joun</th>\n",
       "      <th>ext_plac_joun</th>\n",
       "      <th>Dom_plac_final</th>\n",
       "      <th>ext_plac_final</th>\n",
       "    </tr>\n",
       "  </thead>\n",
       "  <tbody>\n",
       "    <tr>\n",
       "      <th>0</th>\n",
       "      <td>24551</td>\n",
       "      <td>50000</td>\n",
       "      <td>1</td>\n",
       "      <td>sam</td>\n",
       "      <td>21/07/1989</td>\n",
       "      <td>20:30</td>\n",
       "      <td>Olympique de lyonnais</td>\n",
       "      <td>1-4</td>\n",
       "      <td>Olympique de Marseille</td>\n",
       "      <td>1</td>\n",
       "      <td>42.1</td>\n",
       "      <td>18</td>\n",
       "      <td>1</td>\n",
       "      <td>8</td>\n",
       "      <td>1</td>\n",
       "    </tr>\n",
       "    <tr>\n",
       "      <th>1</th>\n",
       "      <td>15572</td>\n",
       "      <td>50000</td>\n",
       "      <td>2</td>\n",
       "      <td>ven</td>\n",
       "      <td>29/07/1989</td>\n",
       "      <td>20:30</td>\n",
       "      <td>Olympique de lyonnais</td>\n",
       "      <td>3-0</td>\n",
       "      <td>Toulouse FC</td>\n",
       "      <td>0</td>\n",
       "      <td>42.1</td>\n",
       "      <td>7</td>\n",
       "      <td>8</td>\n",
       "      <td>8</td>\n",
       "      <td>9</td>\n",
       "    </tr>\n",
       "  </tbody>\n",
       "</table>\n",
       "</div>"
      ],
      "text/plain": [
       "   Affluence  Capacite  Journee Jours        Date  Heure  \\\n",
       "0      24551     50000        1   sam  21/07/1989  20:30   \n",
       "1      15572     50000        2   ven  29/07/1989  20:30   \n",
       "\n",
       "                Domicile Resultat               exterieur  Derby  \\\n",
       "0  Olympique de lyonnais      1-4  Olympique de Marseille      1   \n",
       "1  Olympique de lyonnais      3-0             Toulouse FC      0   \n",
       "\n",
       "   Victoire_dom  Dom_plac_joun  ext_plac_joun  Dom_plac_final  ext_plac_final  \n",
       "0          42.1             18              1               8               1  \n",
       "1          42.1              7              8               8               9  "
      ]
     },
     "execution_count": 167,
     "metadata": {},
     "output_type": "execute_result"
    }
   ],
   "source": [
    "dataset[:2]"
   ]
  },
  {
   "cell_type": "code",
   "execution_count": 168,
   "metadata": {},
   "outputs": [],
   "source": [
    "le = LabelEncoder()\n",
    "\n",
    "dataset['Jours_label'] = le.fit_transform(dataset.Jours)\n",
    "dataset['exterieur_label'] = le.fit_transform(dataset.exterieur)\n",
    "dataset['Domicile_label'] = le.fit_transform(dataset.Domicile)\n",
    "dataset['Capacite_label'] = le.fit_transform(dataset.Capacite)\n",
    "dataset['Heure_label'] = le.fit_transform(dataset.Heure)"
   ]
  },
  {
   "cell_type": "code",
   "execution_count": 169,
   "metadata": {},
   "outputs": [
    {
     "data": {
      "text/html": [
       "<div>\n",
       "<style scoped>\n",
       "    .dataframe tbody tr th:only-of-type {\n",
       "        vertical-align: middle;\n",
       "    }\n",
       "\n",
       "    .dataframe tbody tr th {\n",
       "        vertical-align: top;\n",
       "    }\n",
       "\n",
       "    .dataframe thead th {\n",
       "        text-align: right;\n",
       "    }\n",
       "</style>\n",
       "<table border=\"1\" class=\"dataframe\">\n",
       "  <thead>\n",
       "    <tr style=\"text-align: right;\">\n",
       "      <th></th>\n",
       "      <th>Affluence</th>\n",
       "      <th>Capacite</th>\n",
       "      <th>Journee</th>\n",
       "      <th>Derby</th>\n",
       "      <th>Victoire_dom</th>\n",
       "      <th>Dom_plac_joun</th>\n",
       "      <th>ext_plac_joun</th>\n",
       "      <th>Dom_plac_final</th>\n",
       "      <th>ext_plac_final</th>\n",
       "      <th>Jours_label</th>\n",
       "      <th>exterieur_label</th>\n",
       "      <th>Domicile_label</th>\n",
       "      <th>Capacite_label</th>\n",
       "      <th>Heure_label</th>\n",
       "    </tr>\n",
       "  </thead>\n",
       "  <tbody>\n",
       "    <tr>\n",
       "      <th>count</th>\n",
       "      <td>540.000000</td>\n",
       "      <td>540.000000</td>\n",
       "      <td>540.000000</td>\n",
       "      <td>540.000000</td>\n",
       "      <td>540.000000</td>\n",
       "      <td>540.000000</td>\n",
       "      <td>540.000000</td>\n",
       "      <td>540.000000</td>\n",
       "      <td>540.000000</td>\n",
       "      <td>540.000000</td>\n",
       "      <td>540.000000</td>\n",
       "      <td>540.0</td>\n",
       "      <td>540.000000</td>\n",
       "      <td>540.000000</td>\n",
       "    </tr>\n",
       "    <tr>\n",
       "      <th>mean</th>\n",
       "      <td>31306.225926</td>\n",
       "      <td>44713.451852</td>\n",
       "      <td>19.403704</td>\n",
       "      <td>0.146296</td>\n",
       "      <td>59.815370</td>\n",
       "      <td>5.459259</td>\n",
       "      <td>10.998148</td>\n",
       "      <td>4.303704</td>\n",
       "      <td>10.655556</td>\n",
       "      <td>3.287037</td>\n",
       "      <td>27.116667</td>\n",
       "      <td>0.0</td>\n",
       "      <td>3.192593</td>\n",
       "      <td>13.316667</td>\n",
       "    </tr>\n",
       "    <tr>\n",
       "      <th>std</th>\n",
       "      <td>9831.207951</td>\n",
       "      <td>5574.270324</td>\n",
       "      <td>10.888880</td>\n",
       "      <td>0.353731</td>\n",
       "      <td>11.923686</td>\n",
       "      <td>4.405281</td>\n",
       "      <td>5.593695</td>\n",
       "      <td>3.898573</td>\n",
       "      <td>5.592855</td>\n",
       "      <td>2.099788</td>\n",
       "      <td>15.067298</td>\n",
       "      <td>0.0</td>\n",
       "      <td>2.223992</td>\n",
       "      <td>4.611201</td>\n",
       "    </tr>\n",
       "    <tr>\n",
       "      <th>min</th>\n",
       "      <td>6000.000000</td>\n",
       "      <td>39490.000000</td>\n",
       "      <td>1.000000</td>\n",
       "      <td>0.000000</td>\n",
       "      <td>31.600000</td>\n",
       "      <td>1.000000</td>\n",
       "      <td>1.000000</td>\n",
       "      <td>1.000000</td>\n",
       "      <td>1.000000</td>\n",
       "      <td>0.000000</td>\n",
       "      <td>0.000000</td>\n",
       "      <td>0.0</td>\n",
       "      <td>0.000000</td>\n",
       "      <td>0.000000</td>\n",
       "    </tr>\n",
       "    <tr>\n",
       "      <th>25%</th>\n",
       "      <td>23745.750000</td>\n",
       "      <td>41044.000000</td>\n",
       "      <td>10.000000</td>\n",
       "      <td>0.000000</td>\n",
       "      <td>57.900000</td>\n",
       "      <td>2.000000</td>\n",
       "      <td>6.000000</td>\n",
       "      <td>2.000000</td>\n",
       "      <td>6.000000</td>\n",
       "      <td>0.000000</td>\n",
       "      <td>15.000000</td>\n",
       "      <td>0.0</td>\n",
       "      <td>1.000000</td>\n",
       "      <td>12.000000</td>\n",
       "    </tr>\n",
       "    <tr>\n",
       "      <th>50%</th>\n",
       "      <td>34132.000000</td>\n",
       "      <td>42000.000000</td>\n",
       "      <td>19.000000</td>\n",
       "      <td>0.000000</td>\n",
       "      <td>63.200000</td>\n",
       "      <td>4.000000</td>\n",
       "      <td>11.000000</td>\n",
       "      <td>3.000000</td>\n",
       "      <td>11.000000</td>\n",
       "      <td>5.000000</td>\n",
       "      <td>31.500000</td>\n",
       "      <td>0.0</td>\n",
       "      <td>3.000000</td>\n",
       "      <td>14.000000</td>\n",
       "    </tr>\n",
       "    <tr>\n",
       "      <th>75%</th>\n",
       "      <td>38023.750000</td>\n",
       "      <td>50000.000000</td>\n",
       "      <td>29.000000</td>\n",
       "      <td>0.000000</td>\n",
       "      <td>68.400000</td>\n",
       "      <td>9.000000</td>\n",
       "      <td>16.000000</td>\n",
       "      <td>5.000000</td>\n",
       "      <td>15.000000</td>\n",
       "      <td>5.000000</td>\n",
       "      <td>38.000000</td>\n",
       "      <td>0.0</td>\n",
       "      <td>6.000000</td>\n",
       "      <td>15.000000</td>\n",
       "    </tr>\n",
       "    <tr>\n",
       "      <th>max</th>\n",
       "      <td>58069.000000</td>\n",
       "      <td>59186.000000</td>\n",
       "      <td>38.000000</td>\n",
       "      <td>1.000000</td>\n",
       "      <td>82.400000</td>\n",
       "      <td>18.000000</td>\n",
       "      <td>20.000000</td>\n",
       "      <td>16.000000</td>\n",
       "      <td>20.000000</td>\n",
       "      <td>5.000000</td>\n",
       "      <td>54.000000</td>\n",
       "      <td>0.0</td>\n",
       "      <td>7.000000</td>\n",
       "      <td>20.000000</td>\n",
       "    </tr>\n",
       "  </tbody>\n",
       "</table>\n",
       "</div>"
      ],
      "text/plain": [
       "          Affluence      Capacite     Journee       Derby  Victoire_dom  \\\n",
       "count    540.000000    540.000000  540.000000  540.000000    540.000000   \n",
       "mean   31306.225926  44713.451852   19.403704    0.146296     59.815370   \n",
       "std     9831.207951   5574.270324   10.888880    0.353731     11.923686   \n",
       "min     6000.000000  39490.000000    1.000000    0.000000     31.600000   \n",
       "25%    23745.750000  41044.000000   10.000000    0.000000     57.900000   \n",
       "50%    34132.000000  42000.000000   19.000000    0.000000     63.200000   \n",
       "75%    38023.750000  50000.000000   29.000000    0.000000     68.400000   \n",
       "max    58069.000000  59186.000000   38.000000    1.000000     82.400000   \n",
       "\n",
       "       Dom_plac_joun  ext_plac_joun  Dom_plac_final  ext_plac_final  \\\n",
       "count     540.000000     540.000000      540.000000      540.000000   \n",
       "mean        5.459259      10.998148        4.303704       10.655556   \n",
       "std         4.405281       5.593695        3.898573        5.592855   \n",
       "min         1.000000       1.000000        1.000000        1.000000   \n",
       "25%         2.000000       6.000000        2.000000        6.000000   \n",
       "50%         4.000000      11.000000        3.000000       11.000000   \n",
       "75%         9.000000      16.000000        5.000000       15.000000   \n",
       "max        18.000000      20.000000       16.000000       20.000000   \n",
       "\n",
       "       Jours_label  exterieur_label  Domicile_label  Capacite_label  \\\n",
       "count   540.000000       540.000000           540.0      540.000000   \n",
       "mean      3.287037        27.116667             0.0        3.192593   \n",
       "std       2.099788        15.067298             0.0        2.223992   \n",
       "min       0.000000         0.000000             0.0        0.000000   \n",
       "25%       0.000000        15.000000             0.0        1.000000   \n",
       "50%       5.000000        31.500000             0.0        3.000000   \n",
       "75%       5.000000        38.000000             0.0        6.000000   \n",
       "max       5.000000        54.000000             0.0        7.000000   \n",
       "\n",
       "       Heure_label  \n",
       "count   540.000000  \n",
       "mean     13.316667  \n",
       "std       4.611201  \n",
       "min       0.000000  \n",
       "25%      12.000000  \n",
       "50%      14.000000  \n",
       "75%      15.000000  \n",
       "max      20.000000  "
      ]
     },
     "execution_count": 169,
     "metadata": {},
     "output_type": "execute_result"
    }
   ],
   "source": [
    "dataset.describe() "
   ]
  },
  {
   "cell_type": "code",
   "execution_count": 190,
   "metadata": {},
   "outputs": [],
   "source": [
    "X = dataset.drop(['Jours', 'exterieur', 'Capacite', 'Affluence','Date','Heure','Domicile','Resultat','Journee'], axis = 1)\n",
    "y = dataset['Affluence'] \n"
   ]
  },
  {
   "cell_type": "code",
   "execution_count": 191,
   "metadata": {},
   "outputs": [
    {
     "data": {
      "text/html": [
       "<div>\n",
       "<style scoped>\n",
       "    .dataframe tbody tr th:only-of-type {\n",
       "        vertical-align: middle;\n",
       "    }\n",
       "\n",
       "    .dataframe tbody tr th {\n",
       "        vertical-align: top;\n",
       "    }\n",
       "\n",
       "    .dataframe thead th {\n",
       "        text-align: right;\n",
       "    }\n",
       "</style>\n",
       "<table border=\"1\" class=\"dataframe\">\n",
       "  <thead>\n",
       "    <tr style=\"text-align: right;\">\n",
       "      <th></th>\n",
       "      <th>Derby</th>\n",
       "      <th>Victoire_dom</th>\n",
       "      <th>Dom_plac_joun</th>\n",
       "      <th>ext_plac_joun</th>\n",
       "      <th>Dom_plac_final</th>\n",
       "      <th>ext_plac_final</th>\n",
       "      <th>Jours_label</th>\n",
       "      <th>exterieur_label</th>\n",
       "      <th>Domicile_label</th>\n",
       "      <th>Capacite_label</th>\n",
       "      <th>Heure_label</th>\n",
       "    </tr>\n",
       "  </thead>\n",
       "  <tbody>\n",
       "    <tr>\n",
       "      <th>0</th>\n",
       "      <td>1</td>\n",
       "      <td>42.1</td>\n",
       "      <td>18</td>\n",
       "      <td>1</td>\n",
       "      <td>8</td>\n",
       "      <td>1</td>\n",
       "      <td>4</td>\n",
       "      <td>36</td>\n",
       "      <td>0</td>\n",
       "      <td>6</td>\n",
       "      <td>15</td>\n",
       "    </tr>\n",
       "    <tr>\n",
       "      <th>1</th>\n",
       "      <td>0</td>\n",
       "      <td>42.1</td>\n",
       "      <td>7</td>\n",
       "      <td>8</td>\n",
       "      <td>8</td>\n",
       "      <td>9</td>\n",
       "      <td>5</td>\n",
       "      <td>49</td>\n",
       "      <td>0</td>\n",
       "      <td>6</td>\n",
       "      <td>15</td>\n",
       "    </tr>\n",
       "  </tbody>\n",
       "</table>\n",
       "</div>"
      ],
      "text/plain": [
       "   Derby  Victoire_dom  Dom_plac_joun  ext_plac_joun  Dom_plac_final  \\\n",
       "0      1          42.1             18              1               8   \n",
       "1      0          42.1              7              8               8   \n",
       "\n",
       "   ext_plac_final  Jours_label  exterieur_label  Domicile_label  \\\n",
       "0               1            4               36               0   \n",
       "1               9            5               49               0   \n",
       "\n",
       "   Capacite_label  Heure_label  \n",
       "0               6           15  \n",
       "1               6           15  "
      ]
     },
     "execution_count": 191,
     "metadata": {},
     "output_type": "execute_result"
    }
   ],
   "source": [
    "X[:2]"
   ]
  },
  {
   "cell_type": "code",
   "execution_count": 192,
   "metadata": {},
   "outputs": [],
   "source": [
    "ss = StandardScaler()\n",
    "Xscaled = ss.fit_transform(X)"
   ]
  },
  {
   "cell_type": "code",
   "execution_count": 193,
   "metadata": {},
   "outputs": [],
   "source": [
    "from sklearn.model_selection import train_test_split  \n",
    "X_train, X_test, y_train, y_test = train_test_split(X, y, test_size=0.2, random_state=0)"
   ]
  },
  {
   "cell_type": "code",
   "execution_count": 194,
   "metadata": {},
   "outputs": [],
   "source": [
    "# specify the lasso regression model\n",
    "model=LassoLarsCV(cv=10, precompute=False).fit(X_train,y_train)"
   ]
  },
  {
   "cell_type": "code",
   "execution_count": 195,
   "metadata": {},
   "outputs": [
    {
     "data": {
      "text/plain": [
       "{'Derby': 5993.75913418073,\n",
       " 'Victoire_dom': -127.17435935140551,\n",
       " 'Dom_plac_joun': -388.11726747875576,\n",
       " 'ext_plac_joun': -72.79995819849889,\n",
       " 'Dom_plac_final': -1561.706532592525,\n",
       " 'ext_plac_final': -98.72169481378307,\n",
       " 'Jours_label': -191.06309829691656,\n",
       " 'exterieur_label': -32.20300954511141,\n",
       " 'Domicile_label': 0.0,\n",
       " 'Capacite_label': 0.0,\n",
       " 'Heure_label': 0.0}"
      ]
     },
     "execution_count": 195,
     "metadata": {},
     "output_type": "execute_result"
    }
   ],
   "source": [
    "# print variable names and regression coefficients\n",
    "dict(zip(X, model.coef_))"
   ]
  },
  {
   "cell_type": "code",
   "execution_count": 196,
   "metadata": {},
   "outputs": [
    {
     "data": {
      "text/plain": [
       "Text(0.5,1,'Regression Coefficients Progression for Lasso Paths')"
      ]
     },
     "execution_count": 196,
     "metadata": {},
     "output_type": "execute_result"
    },
    {
     "data": {
      "image/png": "[encoded data removed]",
      "text/plain": [
       "<Figure size 432x288 with 1 Axes>"
      ]
     },
     "metadata": {},
     "output_type": "display_data"
    }
   ],
   "source": [
    "# plot coefficient progression\n",
    "m_log_alphas = -np.log10(model.alphas_)\n",
    "ax = plt.gca()\n",
    "plt.plot(m_log_alphas, model.coef_path_.T)\n",
    "plt.axvline(-np.log10(model.alpha_), linestyle='--', color='k',\n",
    "            label='alpha CV')\n",
    "plt.ylabel('Regression Coefficients')\n",
    "plt.xlabel('-log(alpha)')\n",
    "plt.title('Regression Coefficients Progression for Lasso Paths')"
   ]
  },
  {
   "cell_type": "code",
   "execution_count": 197,
   "metadata": {},
   "outputs": [
    {
     "name": "stderr",
     "output_type": "stream",
     "text": [
      "D:\\Anaconda\\lib\\site-packages\\ipykernel_launcher.py:2: RuntimeWarning: divide by zero encountered in log10\n",
      "  \n",
      "D:\\Anaconda\\lib\\site-packages\\sklearn\\utils\\deprecation.py:77: DeprecationWarning: Function cv_mse_path_ is deprecated; Attribute ``cv_mse_path_`` is deprecated in 0.18 and will be removed in 0.20. Use ``mse_path_`` instead\n",
      "  warnings.warn(msg, category=DeprecationWarning)\n",
      "D:\\Anaconda\\lib\\site-packages\\sklearn\\utils\\deprecation.py:77: DeprecationWarning: Function cv_mse_path_ is deprecated; Attribute ``cv_mse_path_`` is deprecated in 0.18 and will be removed in 0.20. Use ``mse_path_`` instead\n",
      "  warnings.warn(msg, category=DeprecationWarning)\n"
     ]
    },
    {
     "data": {
      "text/plain": [
       "Text(0.5,1,'Mean squared error on each fold')"
      ]
     },
     "execution_count": 197,
     "metadata": {},
     "output_type": "execute_result"
    },
    {
     "data": {
      "image/png": "[encoded data removed]",
      "text/plain": [
       "<Figure size 432x288 with 1 Axes>"
      ]
     },
     "metadata": {},
     "output_type": "display_data"
    }
   ],
   "source": [
    "# plot mean square error for each fold\n",
    "m_log_alphascv = -np.log10(model.cv_alphas_)\n",
    "plt.figure()\n",
    "plt.plot(m_log_alphascv, model.cv_mse_path_, ':')\n",
    "plt.plot(m_log_alphascv, model.cv_mse_path_.mean(axis=-1), 'k',\n",
    "         label='Average across the folds', linewidth=2)\n",
    "plt.axvline(-np.log10(model.alpha_), linestyle='--', color='k',\n",
    "            label='alpha CV')\n",
    "plt.legend()\n",
    "plt.xlabel('-log(alpha)')\n",
    "plt.ylabel('Mean squared error')\n",
    "plt.title('Mean squared error on each fold')"
   ]
  },
  {
   "cell_type": "code",
   "execution_count": 198,
   "metadata": {},
   "outputs": [
    {
     "name": "stdout",
     "output_type": "stream",
     "text": [
      "training data MSE\n",
      "42829002.45419026\n",
      "test data MSE\n",
      "41071264.79756079\n"
     ]
    }
   ],
   "source": [
    "# MSE from training and test data\n",
    "from sklearn.metrics import mean_squared_error\n",
    "train_error = mean_squared_error(y_train, model.predict(X_train))\n",
    "test_error = mean_squared_error(y_test, model.predict(X_test))\n",
    "print ('training data MSE')\n",
    "print(train_error)\n",
    "print ('test data MSE')\n",
    "print(test_error)"
   ]
  },
  {
   "cell_type": "code",
   "execution_count": 199,
   "metadata": {},
   "outputs": [
    {
     "name": "stdout",
     "output_type": "stream",
     "text": [
      "training data R-square\n",
      "0.563331895461376\n",
      "test data R-square\n",
      "0.5386860233396417\n"
     ]
    }
   ],
   "source": [
    "# R-square from training and test data\n",
    "rsquared_train=model.score(X_train,y_train)\n",
    "rsquared_test=model.score(X_test,y_test)\n",
    "print ('training data R-square')\n",
    "print(rsquared_train)\n",
    "print ('test data R-square')\n",
    "print(rsquared_test)"
   ]
  },
  {
   "cell_type": "code",
   "execution_count": 200,
   "metadata": {},
   "outputs": [
    {
     "data": {
      "text/plain": [
       "array([5.00000000e+09, 3.78231664e+09, 2.86118383e+09, 2.16438064e+09,\n",
       "       1.63727458e+09, 1.23853818e+09, 9.36908711e+08, 7.08737081e+08,\n",
       "       5.36133611e+08, 4.05565415e+08, 3.06795364e+08, 2.32079442e+08,\n",
       "       1.75559587e+08, 1.32804389e+08, 1.00461650e+08, 7.59955541e+07,\n",
       "       5.74878498e+07, 4.34874501e+07, 3.28966612e+07, 2.48851178e+07,\n",
       "       1.88246790e+07, 1.42401793e+07, 1.07721735e+07, 8.14875417e+06,\n",
       "       6.16423370e+06, 4.66301673e+06, 3.52740116e+06, 2.66834962e+06,\n",
       "       2.01850863e+06, 1.52692775e+06, 1.15506485e+06, 8.73764200e+05,\n",
       "       6.60970574e+05, 5.00000000e+05, 3.78231664e+05, 2.86118383e+05,\n",
       "       2.16438064e+05, 1.63727458e+05, 1.23853818e+05, 9.36908711e+04,\n",
       "       7.08737081e+04, 5.36133611e+04, 4.05565415e+04, 3.06795364e+04,\n",
       "       2.32079442e+04, 1.75559587e+04, 1.32804389e+04, 1.00461650e+04,\n",
       "       7.59955541e+03, 5.74878498e+03, 4.34874501e+03, 3.28966612e+03,\n",
       "       2.48851178e+03, 1.88246790e+03, 1.42401793e+03, 1.07721735e+03,\n",
       "       8.14875417e+02, 6.16423370e+02, 4.66301673e+02, 3.52740116e+02,\n",
       "       2.66834962e+02, 2.01850863e+02, 1.52692775e+02, 1.15506485e+02,\n",
       "       8.73764200e+01, 6.60970574e+01, 5.00000000e+01, 3.78231664e+01,\n",
       "       2.86118383e+01, 2.16438064e+01, 1.63727458e+01, 1.23853818e+01,\n",
       "       9.36908711e+00, 7.08737081e+00, 5.36133611e+00, 4.05565415e+00,\n",
       "       3.06795364e+00, 2.32079442e+00, 1.75559587e+00, 1.32804389e+00,\n",
       "       1.00461650e+00, 7.59955541e-01, 5.74878498e-01, 4.34874501e-01,\n",
       "       3.28966612e-01, 2.48851178e-01, 1.88246790e-01, 1.42401793e-01,\n",
       "       1.07721735e-01, 8.14875417e-02, 6.16423370e-02, 4.66301673e-02,\n",
       "       3.52740116e-02, 2.66834962e-02, 2.01850863e-02, 1.52692775e-02,\n",
       "       1.15506485e-02, 8.73764200e-03, 6.60970574e-03, 5.00000000e-03])"
      ]
     },
     "execution_count": 200,
     "metadata": {},
     "output_type": "execute_result"
    }
   ],
   "source": [
    "alphas = 10**np.linspace(10,-2,100)*0.5\n",
    "alphas"
   ]
  },
  {
   "cell_type": "code",
   "execution_count": 201,
   "metadata": {},
   "outputs": [
    {
     "data": {
      "text/plain": [
       "(100, 11)"
      ]
     },
     "execution_count": 201,
     "metadata": {},
     "output_type": "execute_result"
    }
   ],
   "source": [
    "ridge = Ridge(normalize = True)\n",
    "coefs = []\n",
    "\n",
    "for a in alphas:\n",
    "    ridge.set_params(alpha = a)\n",
    "    ridge.fit(X, y)\n",
    "    coefs.append(ridge.coef_)\n",
    "    \n",
    "np.shape(coefs)"
   ]
  },
  {
   "cell_type": "code",
   "execution_count": 203,
   "metadata": {},
   "outputs": [
    {
     "data": {
      "text/plain": [
       "Text(0,0.5,'weights')"
      ]
     },
     "execution_count": 203,
     "metadata": {},
     "output_type": "execute_result"
    },
    {
     "data": {
      "image/png": "[encoded data removed]",
      "text/plain": [
       "<Figure size 432x288 with 1 Axes>"
      ]
     },
     "metadata": {},
     "output_type": "display_data"
    }
   ],
   "source": [
    "ax = plt.gca()\n",
    "ax.plot(alphas, coefs)\n",
    "ax.set_xscale('log')\n",
    "plt.axis('tight')\n",
    "plt.xlabel('alpha')\n",
    "plt.ylabel('weights')"
   ]
  },
  {
   "cell_type": "code",
   "execution_count": 204,
   "metadata": {},
   "outputs": [],
   "source": [
    "# Split data into training and test sets\n",
    "X_train, X_test , y_train, y_test = train_test_split(X, y, test_size=0.5, random_state=1)"
   ]
  },
  {
   "cell_type": "code",
   "execution_count": 205,
   "metadata": {},
   "outputs": [
    {
     "name": "stdout",
     "output_type": "stream",
     "text": [
      "Derby              1213.215554\n",
      "Victoire_dom         47.317211\n",
      "Dom_plac_joun      -184.176490\n",
      "ext_plac_joun        -6.675129\n",
      "Dom_plac_final     -270.653230\n",
      "ext_plac_final       -6.412419\n",
      "Jours_label        -158.438516\n",
      "exterieur_label      -7.304636\n",
      "Domicile_label        0.000000\n",
      "Capacite_label     -245.010375\n",
      "Heure_label         -33.652489\n",
      "dtype: float64\n",
      "74675477.278723\n"
     ]
    }
   ],
   "source": [
    "ridge2 = Ridge(alpha = 4, normalize = True)\n",
    "ridge2.fit(X_train, y_train)             # Fit a ridge regression on the training data\n",
    "pred2 = ridge2.predict(X_test)           # Use this model to predict the test data\n",
    "print(pd.Series(ridge2.coef_, index = X.columns)) # Print coefficients\n",
    "print(mean_squared_error(y_test, pred2))          # Calculate the test MSE"
   ]
  },
  {
   "cell_type": "code",
   "execution_count": 206,
   "metadata": {},
   "outputs": [
    {
     "name": "stdout",
     "output_type": "stream",
     "text": [
      "Derby              6.471519e-07\n",
      "Victoire_dom       3.626118e-08\n",
      "Dom_plac_joun     -1.263517e-07\n",
      "ext_plac_joun      6.439238e-10\n",
      "Dom_plac_final    -1.720647e-07\n",
      "ext_plac_final    -3.233809e-10\n",
      "Jours_label       -1.012829e-07\n",
      "exterieur_label   -2.201120e-09\n",
      "Domicile_label     0.000000e+00\n",
      "Capacite_label    -1.745753e-07\n",
      "Heure_label       -1.948991e-08\n",
      "dtype: float64\n",
      "103845293.06604074\n"
     ]
    }
   ],
   "source": [
    "ridge3 = Ridge(alpha = 10**10, normalize = True)\n",
    "ridge3.fit(X_train, y_train)             # Fit a ridge regression on the training data\n",
    "pred3 = ridge3.predict(X_test)           # Use this model to predict the test data\n",
    "print(pd.Series(ridge3.coef_, index = X.columns)) # Print coefficients\n",
    "print(mean_squared_error(y_test, pred3))          # Calculate the test MSE"
   ]
  },
  {
   "cell_type": "code",
   "execution_count": 207,
   "metadata": {},
   "outputs": [
    {
     "name": "stdout",
     "output_type": "stream",
     "text": [
      "Derby              5.915345e+03\n",
      "Victoire_dom      -1.708434e+02\n",
      "Dom_plac_joun     -2.210282e+02\n",
      "ext_plac_joun      8.106414e+00\n",
      "Dom_plac_final    -1.885210e+03\n",
      "ext_plac_final    -3.866428e+01\n",
      "Jours_label       -2.031987e+02\n",
      "exterieur_label   -5.333332e+01\n",
      "Domicile_label    -1.040784e-11\n",
      "Capacite_label     2.784326e+00\n",
      "Heure_label       -1.479820e+02\n",
      "dtype: float64\n",
      "49004048.67473999\n"
     ]
    }
   ],
   "source": [
    "ridge2 = Ridge(alpha = 0, normalize = True)\n",
    "ridge2.fit(X_train, y_train)             # Fit a ridge regression on the training data\n",
    "pred = ridge2.predict(X_test)            # Use this model to predict the test data\n",
    "print(pd.Series(ridge2.coef_, index = X.columns)) # Print coefficients\n",
    "print(mean_squared_error(y_test, pred))           # Calculate the test MSE"
   ]
  },
  {
   "cell_type": "code",
   "execution_count": 208,
   "metadata": {},
   "outputs": [
    {
     "data": {
      "text/plain": [
       "0.01155064850041579"
      ]
     },
     "execution_count": 208,
     "metadata": {},
     "output_type": "execute_result"
    }
   ],
   "source": [
    "ridgecv = RidgeCV(alphas = alphas, scoring = 'neg_mean_squared_error', normalize = True)\n",
    "ridgecv.fit(X_train, y_train)\n",
    "ridgecv.alpha_"
   ]
  },
  {
   "cell_type": "code",
   "execution_count": 209,
   "metadata": {},
   "outputs": [
    {
     "data": {
      "text/plain": [
       "49135558.663666815"
      ]
     },
     "execution_count": 209,
     "metadata": {},
     "output_type": "execute_result"
    }
   ],
   "source": [
    "ridge4 = Ridge(alpha = ridgecv.alpha_, normalize = True)\n",
    "ridge4.fit(X_train, y_train)\n",
    "mean_squared_error(y_test, ridge4.predict(X_test))"
   ]
  },
  {
   "cell_type": "code",
   "execution_count": 210,
   "metadata": {},
   "outputs": [
    {
     "data": {
      "text/plain": [
       "Derby              6257.154031\n",
       "Victoire_dom       -176.910425\n",
       "Dom_plac_joun      -367.891444\n",
       "ext_plac_joun       -56.740192\n",
       "Dom_plac_final    -1815.099045\n",
       "ext_plac_final     -112.181083\n",
       "Jours_label        -242.967791\n",
       "exterieur_label     -45.135855\n",
       "Domicile_label        0.000000\n",
       "Capacite_label      228.031309\n",
       "Heure_label         -53.955189\n",
       "dtype: float64"
      ]
     },
     "execution_count": 210,
     "metadata": {},
     "output_type": "execute_result"
    }
   ],
   "source": [
    "ridge4.fit(X, y)\n",
    "pd.Series(ridge4.coef_, index = X.columns)"
   ]
  },
  {
   "cell_type": "code",
   "execution_count": null,
   "metadata": {},
   "outputs": [],
   "source": []
  }
 ],
 "metadata": {
  "kernelspec": {
   "display_name": "Python 3",
   "language": "python",
   "name": "python3"
  },
  "language_info": {
   "codemirror_mode": {
    "name": "ipython",
    "version": 3
   },
   "file_extension": ".py",
   "mimetype": "text/x-python",
   "name": "python",
   "nbconvert_exporter": "python",
   "pygments_lexer": "ipython3",
   "version": "3.6.5"
  }
 },
 "nbformat": 4,
 "nbformat_minor": 2
}
